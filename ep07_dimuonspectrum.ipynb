{
  "cells": [
    {
      "cell_type": "markdown",
      "metadata": {
        "id": "view-in-github",
        "colab_type": "text"
      },
      "source": [
        "<a href=\"https://colab.research.google.com/github/plttraining/hsf_matplotlib_notebooks/blob/main/ep07_dimuonspectrum.ipynb\" target=\"_parent\"><img src=\"https://colab.research.google.com/assets/colab-badge.svg\" alt=\"Open In Colab\"/></a>"
      ]
    },
    {
      "cell_type": "markdown",
      "id": "eSqk6ZvCTatQ",
      "metadata": {
        "id": "eSqk6ZvCTatQ"
      },
      "source": [
        "# **If on Colab**\n",
        "\n",
        "Please click on the bage and then run the code below"
      ]
    },
    {
      "cell_type": "code",
      "execution_count": null,
      "id": "tP7SqSpMTkHC",
      "metadata": {
        "id": "tP7SqSpMTkHC"
      },
      "outputs": [],
      "source": [
        "! git clone https://github.com/plttraining/hsf_matplotlib_notebooks.git\n",
        "! cd hsf_matplotlib_notebooks/; pip install -r requirements.txt \n",
        "% cd hsf_matplotlib_notebooks/"
      ]
    },
    {
      "cell_type": "markdown",
      "id": "YhKLOE-AT1eY",
      "metadata": {
        "id": "YhKLOE-AT1eY"
      },
      "source": [
        "\n",
        "\n",
        "You might see a warning to Restart the Runtime. This is expected. Just go to the `Kernel` tab and click on `Restart runtime`. Without this restart on Colab you might be able not use mplhep properly.\n",
        "\n",
        "You only have to do this once per notebook on Google Colab.\n"
      ]
    },
    {
      "cell_type": "markdown",
      "id": "ChEwEkRfCRMJ",
      "metadata": {
        "id": "ChEwEkRfCRMJ"
      },
      "source": [
        "# Looking at the dimuon spectrum over a wide energy range"
      ]
    },
    {
      "cell_type": "markdown",
      "id": "5Q3czKXICRMN",
      "metadata": {
        "id": "5Q3czKXICRMN"
      },
      "source": [
        "<h3>Learning goals</h3>\n",
        "<ul>\n",
        "    <li>Relativistic kinematics.\n",
        "    <li>Mesons.\n",
        "</ul>"
      ]
    },
    {
      "cell_type": "markdown",
      "id": "-EQWisz_CRMQ",
      "metadata": {
        "id": "-EQWisz_CRMQ"
      },
      "source": [
        "<b>Background</b>\n",
        "\n",
        "To determine the mass ($m$) of a particle you need to know the 4-momenta of the particles ($\\mathbf{P}$) that are detected after the collision: the energy ($E$), the momentum in the x direction ($p_x$), the momentum in the y direction ($p_y$), the momentum in the z direction ($p_z$).\n",
        "\n",
        "$$\\mathbf{P} = (E,p_x,p_y,p_z)$$\n",
        "\n",
        "\n",
        "\\begin{equation*} m = \\sqrt{E^2-(p_x^2+p_y^2 + p_z^2)} \\end{equation*}\n",
        "\n",
        "Some particles are very unstable and decay (turn into) to two or more other particles. In fact, they can decay so quickly, that they never interact with your detector! Yikes!\n",
        "\n",
        "However, we can reconstruct the parent particle (sometimes referred to as <b>the initial state particle</b>) and its 4-momentum by adding the 4-momenta of the child particles (sometimes referred to as <b>the decay products</b>). \n",
        "\n",
        "$$\\mathbf{P_{\\rm parent}} = \\mathbf{P_{\\rm child 0}} + \\mathbf{P_{\\rm child 1}} + \\mathbf{P_{\\rm child 2}} + ...$$\n",
        "\n",
        "\n",
        "\n",
        "which breaks down into...\n",
        "\n",
        "$$E_{\\rm parent} = E_{\\rm child 0} + E_{\\rm child 1} + E_{\\rm child 2} + ...$$\n",
        "\n",
        "$$p_{\\rm x parent} = p_{\\rm x child 0} + p_{\\rm x child 1} + p_{\\rm x child 2} + ...$$\n",
        "\n",
        "$$p_{\\rm y parent} = p_{\\rm y child 0} + p_{\\rm y child 1} + p_{\\rm y child 2} + ...$$\n",
        "\n",
        "$$p_{\\rm z parent} = p_{\\rm z child 0} + p_{\\rm y child 1} + p_{\\rm z child 2} + ...$$\n"
      ]
    },
    {
      "cell_type": "markdown",
      "id": "rQR8GLXUCRMS",
      "metadata": {
        "id": "rQR8GLXUCRMS"
      },
      "source": [
        "<b>Let's code!</b>\n",
        "\n",
        "Here is some very, very basic starter code. It reads in data from the CMS experiment. \n",
        " \n"
      ]
    },
    {
      "cell_type": "markdown",
      "id": "Q5_Ws3DgCRMe",
      "metadata": {
        "id": "Q5_Ws3DgCRMe"
      },
      "source": [
        "<h2><font color=\"red\">Challenge!</font></h2>\n",
        "\n",
        "Use the sample code to find the mass of the particle that the two muons came from (parent particle). \n",
        "\n",
        "To do this, you will need to loop over all pairs of muons for each collision, sum their 4-momenta (energy, px, py, and pz) and then use that to calculate the invariant mass. \n",
        "\n",
        "Do this for all pairs of muons for the case where the muons have opposite charges.\n",
        "\n",
        "\n",
        "<i>Hint!</i>\n",
        "\n",
        "It is very likely that a particle exists where there is a peak in the data. However, this is not always true. \n",
        "A peak in the data is most likely the mass of a particle. You can look at the approximate mass to figure out which particle \n",
        "is found in the data."
      ]
    },
    {
      "cell_type": "markdown",
      "id": "Q1GLOtOfCRMg",
      "metadata": {
        "id": "Q1GLOtOfCRMg"
      },
      "source": [
        "Your histogram should look something like the following sketch. The value of the peaks should be the mass of a particle. You should be able to find two particles in their ground state. <a href=\"http://en.wikipedia.org/wiki/J/psi_meson\">Check your answer for the first particle!</a> <a href=\"http://en.wikipedia.org/wiki/Upsilon_meson\">Check your answer for the second particle!</a> "
      ]
    },
    {
      "cell_type": "code",
      "execution_count": null,
      "id": "nRdNKhJBCRMh",
      "metadata": {
        "colab": {
          "base_uri": "https://localhost:8080/",
          "height": 342
        },
        "id": "nRdNKhJBCRMh",
        "outputId": "eec85a27-5247-40ce-c759-dbb9b6c0cc28",
        "tags": []
      },
      "outputs": [
        {
          "data": {
            "text/html": [
              "<img src=\"https://raw.githubusercontent.com/particle-physics-playground/playground/master/activities/images/dimuons_sketch.jpeg\"/>"
            ],
            "text/plain": [
              "<IPython.core.display.Image object>"
            ]
          },
          "execution_count": 1,
          "metadata": {},
          "output_type": "execute_result"
        }
      ],
      "source": [
        "from IPython.display import Image\n",
        "Image(url='https://raw.githubusercontent.com/particle-physics-playground/playground/master/activities/images/dimuons_sketch.jpeg')"
      ]
    },
    {
      "cell_type": "code",
      "execution_count": null,
      "id": "UI9SpKUnTati",
      "metadata": {
        "id": "UI9SpKUnTati"
      },
      "outputs": [],
      "source": [
        "import numpy as np\n",
        "import h5py\n",
        "import matplotlib.pyplot as plt\n",
        "import mplhep as hep"
      ]
    },
    {
      "cell_type": "markdown",
      "id": "jwmB_SAlVJz-",
      "metadata": {
        "id": "jwmB_SAlVJz-"
      },
      "source": [
        "Decide which styling you want to use"
      ]
    },
    {
      "cell_type": "code",
      "execution_count": null,
      "id": "a3CSg4r1Tatj",
      "metadata": {
        "id": "a3CSg4r1Tatj"
      },
      "outputs": [],
      "source": [
        "# plt.style.use(\"default\") # This is the default style for matplotlib # Do not change this cell if you desire this option\n",
        "hep.style.use(\"ROOT\") # This is the mplhep style # Uncomment this line for this styling."
      ]
    },
    {
      "cell_type": "code",
      "execution_count": null,
      "id": "kVX3N4-VTatk",
      "metadata": {
        "id": "kVX3N4-VTatk",
        "tags": []
      },
      "outputs": [],
      "source": [
        "event=h5py.File('./data-ep07-dimuonspectrum/dimuon100k.hdf5',mode='r') #  make sure you have the correct path to the dimuon file"
      ]
    },
    {
      "cell_type": "code",
      "execution_count": null,
      "id": "K415DJXKTatk",
      "metadata": {
        "id": "K415DJXKTatk"
      },
      "outputs": [],
      "source": [
        "e=event['muons/e'][:]\n",
        "px =event['muons/px'][:]\n",
        "py =event['muons/py'][:]\n",
        "pz =event['muons/pz'][:]\n",
        "q = event['muons/q'][:]\n",
        "\n",
        "# We will check for muons that do not pass the kinematics\n",
        "print(len(px)) # number of muons\n",
        "\n",
        "# see if there are any anomalies and clean them out\n",
        "cut=(e**2 - (px**2 + py**2 + pz**2)) <0\n",
        "\n",
        "print(sum(cut)) #count how many anomalies"
      ]
    },
    {
      "cell_type": "markdown",
      "id": "MaRCrVjnTatm",
      "metadata": {
        "id": "MaRCrVjnTatm"
      },
      "source": [
        "We can use numpy to clean our arrays from anomalous events"
      ]
    },
    {
      "cell_type": "code",
      "execution_count": null,
      "id": "j3XBvhJATatm",
      "metadata": {
        "id": "j3XBvhJATatm"
      },
      "outputs": [],
      "source": [
        "e=np.delete(e,cut)\n",
        "px,py,pz=np.delete(px,cut),np.delete(py,cut),np.delete(pz,cut)\n",
        "q=np.delete(q,cut)"
      ]
    },
    {
      "cell_type": "code",
      "execution_count": null,
      "id": "-uUfsFd5Tatn",
      "metadata": {
        "id": "-uUfsFd5Tatn"
      },
      "outputs": [],
      "source": [
        "# let's calculate the mass\n",
        "M=(e**2 - (px**2 + py**2 + pz**2))**.5"
      ]
    },
    {
      "cell_type": "code",
      "execution_count": null,
      "id": "ls7RBl6FTatn",
      "metadata": {
        "id": "ls7RBl6FTatn"
      },
      "outputs": [],
      "source": [
        "# Make a histogram of the values of the Mass\n",
        "\n",
        "### Your code Here ###\n",
        "\n",
        "\n",
        "\n",
        "######################\n",
        "\n",
        "plt.xlabel('$\\mu_{mass}$ [GeV]')\n",
        "plt.title('Muon Mass spectrum')\n",
        "plt.show()"
      ]
    },
    {
      "cell_type": "markdown",
      "id": "FdkK6btZTato",
      "metadata": {
        "id": "FdkK6btZTato"
      },
      "source": [
        "## Excercise :\n",
        "Using our knowledge so far, zoom in to fix the above plot to **visually** estimate the mass of the muon"
      ]
    },
    {
      "cell_type": "code",
      "execution_count": null,
      "id": "RQZRfAVeTato",
      "metadata": {
        "id": "RQZRfAVeTato"
      },
      "outputs": [],
      "source": [
        "#### Your code here ####\n",
        "\n",
        "\n",
        "\n",
        "\n",
        "#### \n",
        "# Where is the value of the peak at?\n",
        "####"
      ]
    },
    {
      "cell_type": "markdown",
      "id": "cuqYVIIoTatp",
      "metadata": {
        "id": "cuqYVIIoTatp"
      },
      "source": [
        "# Let's make the dimuon spectrum"
      ]
    },
    {
      "cell_type": "markdown",
      "id": "u4JE-yN7Tatp",
      "metadata": {
        "id": "u4JE-yN7Tatp"
      },
      "source": [
        "We need to calculate the sum the energies at the event level \n",
        "\n",
        "\n",
        "**REMEMBER** \n",
        "$$E_{\\rm parent} = E_{\\rm child 0} + E_{\\rm child 1} + E_{\\rm child 2} + ...$$\n",
        "\n",
        "$$p_{\\rm x parent} = p_{\\rm x child 0} + p_{\\rm x child 1} + p_{\\rm x child 2} + ...$$\n",
        "\n",
        "$$p_{\\rm y parent} = p_{\\rm y child 0} + p_{\\rm y child 1} + p_{\\rm y child 2} + ...$$\n",
        "\n",
        "$$p_{\\rm z parent} = p_{\\rm z child 0} + p_{\\rm y child 1} + p_{\\rm z child 2} + ...$$\n",
        "\n",
        "\n"
      ]
    },
    {
      "cell_type": "markdown",
      "id": "CFfqvEQQT6as",
      "metadata": {
        "id": "CFfqvEQQT6as"
      },
      "source": [
        "### Looping over all the muons and checking for the possible charge combinations"
      ]
    },
    {
      "cell_type": "markdown",
      "id": "cWFXUAAvWQfD",
      "metadata": {
        "id": "cWFXUAAvWQfD"
      },
      "source": [
        "First, let's assume that there are only 2 muons per event. We will loop over both muons and keep under seperate lists those with same charge ($+,+$) or ($-,-$) and those with oppossite charge ($\\pm,\\mp$)"
      ]
    },
    {
      "cell_type": "code",
      "execution_count": null,
      "id": "dX1g4FaRXnVI",
      "metadata": {
        "id": "dX1g4FaRXnVI"
      },
      "outputs": [],
      "source": [
        "def invmass(e,px,py,pz):                         # arguments for function is a list of 4-momentums \n",
        "\n",
        "    etot,pxtot,pytot,pztot = 0,0,0,0 \n",
        "\n",
        "    for i in range(len(e)):                              # This loops over all of the 4-momentums in the list, and adds together all of their energy,\n",
        "        etot += e[i]                           # px, py, and pz components\n",
        "        pxtot += px[i]\n",
        "        pytot += py[i]\n",
        "        pztot += pz[i]                           \n",
        "        m2 = etot**2 - (pxtot**2 + pytot**2 + pztot**2)      # uses the total energy,px,py,and pz to calculate invariant mass\n",
        "    return(np.sqrt(abs(m2)))"
      ]
    },
    {
      "cell_type": "code",
      "execution_count": null,
      "id": "IKi9DyIsUqcx",
      "metadata": {
        "id": "IKi9DyIsUqcx"
      },
      "outputs": [],
      "source": [
        "\n",
        "pp=[] # postive positive\n",
        "nn=[] # negative negative\n",
        "pm=[] # opposite charges\n",
        "M =[] # all combinations\n",
        "\n",
        "for i in range(0,len(q)-1,2) :  # loop every 2 muons\n",
        "    # Make a list with information for 2 muons \n",
        "    E=[e[i],e[i+1]]\n",
        "    PX=[px[i],px[i+1]]\n",
        "    PY=[py[i],py[i+1]]\n",
        "    PZ=[pz[i],pz[i+1]]\n",
        "    M.append(invmass(E,PX,PY,PZ))\n",
        "    if q[i]*q[i+1] < 0 :\n",
        "        pm.append(invmass(E,PX,PY,PZ))\n",
        "    elif q[i]+q[i+1] == 2:\n",
        "        pp.append(invmass(E,PX,PY,PZ))\n",
        "    elif q[i]+q[i+1] == -2:\n",
        "        nn.append(invmass(E,PX,PY,PZ))\n",
        "    else : \n",
        "        print('anomaly?')\n",
        "print(\"Done!\")"
      ]
    },
    {
      "cell_type": "markdown",
      "id": "zehMgDheUjXW",
      "metadata": {
        "id": "zehMgDheUjXW"
      },
      "source": [
        "## Now we plot for all combinations\n",
        "\n",
        "I would like you to make these 4 histograms *in 4 different ways* focusing on on different mass ranges. To look at these mass ranges, you'll want to use the `bins` and `range` options in the `plt.hist()` function. \n",
        "\n",
        "* *Mass range 1*: 0 - 120\n",
        "* *Mass range 2*: 2 - 4\n",
        "* *Mass range 3*: 8 - 12\n",
        "* *Mass range 4*: 70 - 120\n",
        "\n",
        "Remember, you'll have 4 charge combinations for each of these histograms. \n",
        "1. All charge combinations\n",
        "2. Only positve muons\n",
        "3. Only negative muons\n",
        "4. Only oppositly charged muons"
      ]
    },
    {
      "cell_type": "markdown",
      "id": "aF0cHwVWMKsB",
      "metadata": {
        "id": "aF0cHwVWMKsB"
      },
      "source": [
        "Below I will give you some code to get you started. Please make your changes/additions below this cell and look at each mass range."
      ]
    },
    {
      "cell_type": "code",
      "execution_count": null,
      "id": "0SG_XipqMD0-",
      "metadata": {
        "id": "0SG_XipqMD0-"
      },
      "outputs": [],
      "source": [
        "# mass = 0-120\n",
        "\n",
        "plt.figure(figsize=(16,10))\n",
        "plt.subplot(221)\n",
        "plt.hist(M,bins=100,range=(0,120),histtype='step',label='All charge combinations')\n",
        "plt.xlabel(r'Mass (GeV/c$^2$)',fontsize=14)\n",
        "plt.legend(fontsize=18)\n",
        "\n",
        "\n",
        "plt.subplot(222)\n",
        "plt.hist(pp,bins=100,range=(0,120),histtype='step',label='$2+$')\n",
        "plt.xlabel(r'Mass (GeV/c$^2$)',fontsize=14)\n",
        "plt.legend(fontsize=18)\n",
        "\n",
        "\n",
        "plt.subplot(223)\n",
        "plt.hist(nn,bins=100,range=(0,120),histtype='step',label='$2-$')\n",
        "plt.xlabel(r'Mass (GeV/c$^2$)',fontsize=14)\n",
        "plt.legend(fontsize=18)\n",
        "\n",
        "\n",
        "plt.subplot(224)\n",
        "plt.hist(pm,bins=100,range=(0,120),histtype='step',label='Electrically neutral')\n",
        "plt.xlabel(r'Mass (GeV/c$^2$)',fontsize=14)\n",
        "plt.legend(fontsize=18)\n",
        "\n",
        "plt.tight_layout();"
      ]
    },
    {
      "cell_type": "markdown",
      "id": "2a4f68cc-737c-4b42-b312-8a88d4b75e4a",
      "metadata": {
        "id": "2a4f68cc-737c-4b42-b312-8a88d4b75e4a"
      },
      "source": [
        "Now, let's  should make a histogram that looks like the one at the end of this notebook. Try making it on your own! It won't be a perfect match so don't worry to much if it seems odd.\n",
        "\n",
        "<i>Hint!</i>\n",
        "\n",
        "You could use the `np.logspace()` function for the binning. It helps in returing numbers spaced evenly on a log scale. You can find out more about it [here](https://numpy.org/doc/stable/reference/generated/numpy.logspace.html)."
      ]
    },
    {
      "cell_type": "code",
      "execution_count": null,
      "id": "lDc_68uaTats",
      "metadata": {
        "id": "lDc_68uaTats"
      },
      "outputs": [],
      "source": [
        "##### Your code here #####\n",
        "\n",
        "\n",
        "\n",
        "\n",
        "##########################\n",
        "\n",
        "\n",
        "plt.xlabel('mass (GeV/$c^2$)')\n",
        "plt.ylabel('Events')\n",
        "# plt.yscale('symlog')\n",
        "# plt.xscale('symlog')\n",
        "plt.title('Mass of dimuons per event')\n",
        "\n",
        "plt.show()"
      ]
    },
    {
      "cell_type": "markdown",
      "id": "4Kps3sGICRMu",
      "metadata": {
        "id": "4Kps3sGICRMu"
      },
      "source": [
        "Depending on what you did, you may see hints of particles below 20 GeV/c$^2$. It is possible you see signs of other particles at even higher energies. Plot your masses over a wide range of values, but then zoom in (change the plotting range) on different mass ranges to see if you can identify these particles.  "
      ]
    },
    {
      "cell_type": "code",
      "execution_count": null,
      "id": "bMhlKwy3Tatt",
      "metadata": {
        "colab": {
          "base_uri": "https://localhost:8080/",
          "height": 405
        },
        "id": "bMhlKwy3Tatt",
        "outputId": "72fd82d6-df5c-475d-b850-8f9242a412e1"
      },
      "outputs": [
        {
          "data": {
            "text/html": [
              "<img src=\"https://twiki.cern.ch/twiki/pub/CMSPublic/HLTDiMuon2017and2018/CMS_HLT_DimuonMass_Inclusive_2017.png\" width=\"600\"/>"
            ],
            "text/plain": [
              "<IPython.core.display.Image object>"
            ]
          },
          "execution_count": 2,
          "metadata": {},
          "output_type": "execute_result"
        }
      ],
      "source": [
        "Image(url='https://twiki.cern.ch/twiki/pub/CMSPublic/HLTDiMuon2017and2018/CMS_HLT_DimuonMass_Inclusive_2017.png',width=600)"
      ]
    }
  ],
  "metadata": {
    "colab": {
      "name": "ep07-dimuonspectrum.ipynb",
      "provenance": [],
      "include_colab_link": true
    },
    "kernelspec": {
      "display_name": "Python 3 (ipykernel)",
      "language": "python",
      "name": "python3"
    },
    "language_info": {
      "codemirror_mode": {
        "name": "ipython",
        "version": 3
      },
      "file_extension": ".py",
      "mimetype": "text/x-python",
      "name": "python",
      "nbconvert_exporter": "python",
      "pygments_lexer": "ipython3",
      "version": "3.10.2"
    }
  },
  "nbformat": 4,
  "nbformat_minor": 5
}